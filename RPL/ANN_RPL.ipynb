{
 "cells": [
  {
   "cell_type": "markdown",
   "id": "fe402db3",
   "metadata": {},
   "source": [
  
   ]
  },
  {
   "cell_type": "markdown",
   "id": "06a6ce36",
   "metadata": {},
   "source": [
    "*Problem Statement* :\n",
    "<br>4.\tRPL Banking and Financing company wants to study the behavior patterns of their customers so that they can efficiently provide their services and solve the problem of churn. They have historical data of their customers. Build an Artificial Neural Network with Exited as the target variable."
   ]
  },
  {
   "cell_type": "code",
   "execution_count": 1,
   "id": "5f19e4e1",
   "metadata": {},
   "outputs": [],
   "source": [
    "#importing required libraries\n",
    "import pandas as pd\n",
    "from tensorflow.keras.models import Sequential\n",
    "from tensorflow.keras.layers import Dense \n",
    "from tensorflow.keras.callbacks import EarlyStopping\n",
    "import numpy as np"
   ]
  },
  {
   "cell_type": "code",
   "execution_count": 2,
   "id": "09a41c8f",
   "metadata": {},
   "outputs": [],
   "source": [
    "#declaring seeds to reproduce same resullts\n",
    "seeds=7\n",
    "np.random.seed(seeds)"
   ]
  },
  {
   "cell_type": "code",
   "execution_count": 4,
   "id": "38af6187",
   "metadata": {},
   "outputs": [],
   "source": [
    "#designing model\n",
    "def design_model():\n",
    "    model= Sequential()\n",
    "    model.add(Dense(12,input_dim=15 , kernel_initializer=\"uniform\",activation=\"relu\"))\n",
    "    model.add(Dense(24,kernel_initializer=\"uniform\",activation=\"relu\"))\n",
    "    model.add(Dense(24,kernel_initializer=\"uniform\",activation=\"relu\"))\n",
    "    model.add(Dense(6,kernel_initializer=\"uniform\",activation=\"relu\"))\n",
    "    model.add(Dense(1,kernel_initializer=\"uniform\",activation=\"sigmoid\"))\n",
    "    model.compile(loss=\"binary_crossentropy\",optimizer=\"adam\",metrics=[\"accuracy\"])\n",
    "    return model"
   ]
  },
  {
   "cell_type": "code",
   "execution_count": 5,
   "id": "88076779",
   "metadata": {},
   "outputs": [
    {
     "name": "stdout",
     "output_type": "stream",
     "text": [
      "Model: \"sequential\"\n",
      "_________________________________________________________________\n",
      "Layer (type)                 Output Shape              Param #   \n",
      "=================================================================\n",
      "dense (Dense)                (None, 12)                192       \n",
      "_________________________________________________________________\n",
      "dense_1 (Dense)              (None, 24)                312       \n",
      "_________________________________________________________________\n",
      "dense_2 (Dense)              (None, 24)                600       \n",
      "_________________________________________________________________\n",
      "dense_3 (Dense)              (None, 6)                 150       \n",
      "_________________________________________________________________\n",
      "dense_4 (Dense)              (None, 1)                 7         \n",
      "=================================================================\n",
      "Total params: 1,261\n",
      "Trainable params: 1,261\n",
      "Non-trainable params: 0\n",
      "_________________________________________________________________\n"
     ]
    }
   ],
   "source": [
    "model=design_model()\n",
    "model.summary()"
   ]
  },
  {
   "cell_type": "code",
   "execution_count": 6,
   "id": "fb52c859",
   "metadata": {},
   "outputs": [
    {
     "data": {
      "text/html": [
       "<div>\n",
       "<style scoped>\n",
       "    .dataframe tbody tr th:only-of-type {\n",
       "        vertical-align: middle;\n",
       "    }\n",
       "\n",
       "    .dataframe tbody tr th {\n",
       "        vertical-align: top;\n",
       "    }\n",
       "\n",
       "    .dataframe thead th {\n",
       "        text-align: right;\n",
       "    }\n",
       "</style>\n",
       "<table border=\"1\" class=\"dataframe\">\n",
       "  <thead>\n",
       "    <tr style=\"text-align: right;\">\n",
       "      <th></th>\n",
       "      <th>RowNumber</th>\n",
       "      <th>CustomerId</th>\n",
       "      <th>Surname</th>\n",
       "      <th>CreditScore</th>\n",
       "      <th>Geography</th>\n",
       "      <th>Gender</th>\n",
       "      <th>Age</th>\n",
       "      <th>Tenure</th>\n",
       "      <th>Balance</th>\n",
       "      <th>NumOfProducts</th>\n",
       "      <th>HasCrCard</th>\n",
       "      <th>IsActiveMember</th>\n",
       "      <th>EstimatedSalary</th>\n",
       "      <th>Exited</th>\n",
       "    </tr>\n",
       "  </thead>\n",
       "  <tbody>\n",
       "    <tr>\n",
       "      <th>0</th>\n",
       "      <td>1</td>\n",
       "      <td>15634602</td>\n",
       "      <td>Hargrave</td>\n",
       "      <td>619</td>\n",
       "      <td>France</td>\n",
       "      <td>Female</td>\n",
       "      <td>42</td>\n",
       "      <td>2</td>\n",
       "      <td>0.00</td>\n",
       "      <td>1</td>\n",
       "      <td>1</td>\n",
       "      <td>1</td>\n",
       "      <td>101348.88</td>\n",
       "      <td>1</td>\n",
       "    </tr>\n",
       "    <tr>\n",
       "      <th>1</th>\n",
       "      <td>2</td>\n",
       "      <td>15647311</td>\n",
       "      <td>Hill</td>\n",
       "      <td>608</td>\n",
       "      <td>Spain</td>\n",
       "      <td>Female</td>\n",
       "      <td>41</td>\n",
       "      <td>1</td>\n",
       "      <td>83807.86</td>\n",
       "      <td>1</td>\n",
       "      <td>0</td>\n",
       "      <td>1</td>\n",
       "      <td>112542.58</td>\n",
       "      <td>0</td>\n",
       "    </tr>\n",
       "    <tr>\n",
       "      <th>2</th>\n",
       "      <td>3</td>\n",
       "      <td>15619304</td>\n",
       "      <td>Onio</td>\n",
       "      <td>502</td>\n",
       "      <td>France</td>\n",
       "      <td>Female</td>\n",
       "      <td>42</td>\n",
       "      <td>8</td>\n",
       "      <td>159660.80</td>\n",
       "      <td>3</td>\n",
       "      <td>1</td>\n",
       "      <td>0</td>\n",
       "      <td>113931.57</td>\n",
       "      <td>1</td>\n",
       "    </tr>\n",
       "    <tr>\n",
       "      <th>3</th>\n",
       "      <td>4</td>\n",
       "      <td>15701354</td>\n",
       "      <td>Boni</td>\n",
       "      <td>699</td>\n",
       "      <td>France</td>\n",
       "      <td>Female</td>\n",
       "      <td>39</td>\n",
       "      <td>1</td>\n",
       "      <td>0.00</td>\n",
       "      <td>2</td>\n",
       "      <td>0</td>\n",
       "      <td>0</td>\n",
       "      <td>93826.63</td>\n",
       "      <td>0</td>\n",
       "    </tr>\n",
       "    <tr>\n",
       "      <th>4</th>\n",
       "      <td>5</td>\n",
       "      <td>15737888</td>\n",
       "      <td>Mitchell</td>\n",
       "      <td>850</td>\n",
       "      <td>Spain</td>\n",
       "      <td>Female</td>\n",
       "      <td>43</td>\n",
       "      <td>2</td>\n",
       "      <td>125510.82</td>\n",
       "      <td>1</td>\n",
       "      <td>1</td>\n",
       "      <td>1</td>\n",
       "      <td>79084.10</td>\n",
       "      <td>0</td>\n",
       "    </tr>\n",
       "  </tbody>\n",
       "</table>\n",
       "</div>"
      ],
      "text/plain": [
       "   RowNumber  CustomerId   Surname  CreditScore Geography  Gender  Age  \\\n",
       "0          1    15634602  Hargrave          619    France  Female   42   \n",
       "1          2    15647311      Hill          608     Spain  Female   41   \n",
       "2          3    15619304      Onio          502    France  Female   42   \n",
       "3          4    15701354      Boni          699    France  Female   39   \n",
       "4          5    15737888  Mitchell          850     Spain  Female   43   \n",
       "\n",
       "   Tenure    Balance  NumOfProducts  HasCrCard  IsActiveMember  \\\n",
       "0       2       0.00              1          1               1   \n",
       "1       1   83807.86              1          0               1   \n",
       "2       8  159660.80              3          1               0   \n",
       "3       1       0.00              2          0               0   \n",
       "4       2  125510.82              1          1               1   \n",
       "\n",
       "   EstimatedSalary  Exited  \n",
       "0        101348.88       1  \n",
       "1        112542.58       0  \n",
       "2        113931.57       1  \n",
       "3         93826.63       0  \n",
       "4         79084.10       0  "
      ]
     },
     "execution_count": 6,
     "metadata": {},
     "output_type": "execute_result"
    }
   ],
   "source": [
    "#loading data set\n",
    "dt=pd.read_csv(\"file:///D:/DataScience/Class/assignment working/ANN/RPL.csv\")    \n",
    "dt.head()"
   ]
  },
  {
   "cell_type": "code",
   "execution_count": 7,
   "id": "1b61ec26",
   "metadata": {},
   "outputs": [
    {
     "data": {
      "text/plain": [
       "RowNumber          0\n",
       "CustomerId         0\n",
       "Surname            0\n",
       "CreditScore        0\n",
       "Geography          0\n",
       "Gender             0\n",
       "Age                0\n",
       "Tenure             0\n",
       "Balance            0\n",
       "NumOfProducts      0\n",
       "HasCrCard          0\n",
       "IsActiveMember     0\n",
       "EstimatedSalary    0\n",
       "Exited             0\n",
       "dtype: int64"
      ]
     },
     "execution_count": 7,
     "metadata": {},
     "output_type": "execute_result"
    }
   ],
   "source": [
    "#cheking null values\n",
    "dt.isna().sum()"
   ]
  },
  {
   "cell_type": "code",
   "execution_count": 8,
   "id": "087fe487",
   "metadata": {},
   "outputs": [],
   "source": [
    "#creating dummies for categorical data and droping unwanted veriable\n",
    "dt=dt.drop(\"Surname\",axis=1)\n",
    "data=pd.get_dummies(dt,columns=[\"Geography\",\"Gender\"])"
   ]
  },
  {
   "cell_type": "code",
   "execution_count": 9,
   "id": "c8a4af49",
   "metadata": {},
   "outputs": [],
   "source": [
    "#Separating Target and input variables\n",
    "X=data.drop(\"Exited\",axis=1)\n",
    "X=np.array(X)\n",
    "Y=data.Exited\n",
    "Y=np.array(Y)"
   ]
  },
  {
   "cell_type": "markdown",
   "id": "321be34e",
   "metadata": {},
   "source": [
    "convering into array to make computation faster"
   ]
  },
  {
   "cell_type": "code",
   "execution_count": 10,
   "id": "3692a407",
   "metadata": {},
   "outputs": [],
   "source": [
    "#applying monitor to stop training if there is no considerable change in validation loss \n",
    "monitor=EarlyStopping(\"val_loss\",min_delta=1e-3,patience=5,verbose=1,mode=\"auto\",restore_best_weights=True)\n"
   ]
  },
  {
   "cell_type": "code",
   "execution_count": 11,
   "id": "21fb8940",
   "metadata": {},
   "outputs": [
    {
     "name": "stdout",
     "output_type": "stream",
     "text": [
      "Epoch 1/100\n",
      "750/750 [==============================] - 2s 3ms/step - loss: 0.5581 - accuracy: 0.7927 - val_loss: 0.4948 - val_accuracy: 0.8036\n",
      "Epoch 2/100\n",
      "750/750 [==============================] - 2s 2ms/step - loss: 0.5209 - accuracy: 0.7939 - val_loss: 0.5029 - val_accuracy: 0.8036\n",
      "Epoch 3/100\n",
      "750/750 [==============================] - 2s 3ms/step - loss: 0.5152 - accuracy: 0.7939 - val_loss: 0.5146 - val_accuracy: 0.8036\n",
      "Epoch 4/100\n",
      "750/750 [==============================] - 2s 2ms/step - loss: 0.5154 - accuracy: 0.7939 - val_loss: 0.5044 - val_accuracy: 0.8036\n",
      "Epoch 5/100\n",
      "750/750 [==============================] - 2s 2ms/step - loss: 0.5120 - accuracy: 0.7939 - val_loss: 0.4940 - val_accuracy: 0.8036\n",
      "Epoch 6/100\n",
      "750/750 [==============================] - 1s 2ms/step - loss: 0.5122 - accuracy: 0.7939 - val_loss: 0.4901 - val_accuracy: 0.8036\n",
      "Epoch 7/100\n",
      "750/750 [==============================] - 2s 3ms/step - loss: 0.5106 - accuracy: 0.7939 - val_loss: 0.4898 - val_accuracy: 0.8036\n",
      "Epoch 8/100\n",
      "750/750 [==============================] - 2s 2ms/step - loss: 0.5118 - accuracy: 0.7939 - val_loss: 0.5013 - val_accuracy: 0.8036\n",
      "Epoch 9/100\n",
      "750/750 [==============================] - 1s 2ms/step - loss: 0.5087 - accuracy: 0.7939 - val_loss: 0.4884 - val_accuracy: 0.8036\n",
      "Epoch 10/100\n",
      "750/750 [==============================] - 2s 2ms/step - loss: 0.5067 - accuracy: 0.7939 - val_loss: 0.4963 - val_accuracy: 0.8036\n",
      "Epoch 11/100\n",
      "750/750 [==============================] - 1s 2ms/step - loss: 0.5084 - accuracy: 0.7939 - val_loss: 0.4876 - val_accuracy: 0.8036\n",
      "Epoch 12/100\n",
      "750/750 [==============================] - 2s 2ms/step - loss: 0.5085 - accuracy: 0.7939 - val_loss: 0.4885 - val_accuracy: 0.8036\n",
      "Epoch 13/100\n",
      "750/750 [==============================] - 2s 3ms/step - loss: 0.5067 - accuracy: 0.7939 - val_loss: 0.4967 - val_accuracy: 0.8036\n",
      "Epoch 14/100\n",
      "741/750 [============================>.] - ETA: 0s - loss: 0.5060 - accuracy: 0.7945Restoring model weights from the end of the best epoch.\n",
      "750/750 [==============================] - 2s 3ms/step - loss: 0.5068 - accuracy: 0.7939 - val_loss: 0.4991 - val_accuracy: 0.8036\n",
      "Epoch 00014: early stopping\n"
     ]
    },
    {
     "data": {
      "text/plain": [
       "<tensorflow.python.keras.callbacks.History at 0x1947f18a080>"
      ]
     },
     "execution_count": 11,
     "metadata": {},
     "output_type": "execute_result"
    }
   ],
   "source": [
    "#fitting model\n",
    "model.fit(X,Y, validation_split=0.25, epochs=100 ,batch_size=10,use_multiprocessing=True,callbacks=[monitor])"
   ]
  },
  {
   "cell_type": "markdown",
   "id": "c0b4ee12",
   "metadata": {},
   "source": [
    "We can see model stopped after 14th epoch as there was no improvement in validation accuracy"
   ]
  },
  {
   "cell_type": "markdown",
   "id": "ec21be7e",
   "metadata": {},
   "source": [
    "* Model is working fine and giving acceptablle accuracy\n",
    "* No overfitting\n",
    "* 80% validation accuracy and 79.39% testing accuracy"
   ]
  }
 ],
 "metadata": {
  "kernelspec": {
   "display_name": "Python 3",
   "language": "python",
   "name": "python3"
  },
  "language_info": {
   "codemirror_mode": {
    "name": "ipython",
    "version": 3
   },
   "file_extension": ".py",
   "mimetype": "text/x-python",
   "name": "python",
   "nbconvert_exporter": "python",
   "pygments_lexer": "ipython3",
   "version": "3.6.13"
  }
 },
 "nbformat": 4,
 "nbformat_minor": 5
}
